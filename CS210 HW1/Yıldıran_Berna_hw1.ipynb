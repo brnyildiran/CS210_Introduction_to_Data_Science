{
  "nbformat": 4,
  "nbformat_minor": 0,
  "metadata": {
    "colab": {
      "name": "Yıldıran_Berna_hw1.ipynb",
      "provenance": [],
      "collapsed_sections": [],
      "toc_visible": true
    },
    "kernelspec": {
      "name": "python3",
      "display_name": "Python 3"
    }
  },
  "cells": [
    {
      "cell_type": "markdown",
      "metadata": {
        "id": "JD9gUM7WW8iT"
      },
      "source": [
        "# Homework 1: Strecthing Python Muscles\n",
        "\n",
        "\n",
        "*In the first homework, you are going to work on a set of Python exercises.*\n",
        "\n",
        "**Submission Instructions**\n",
        "\n",
        "---\n",
        "It is important that you follow the submission instructions. \n",
        "1. Copy this assignment notebook to your Drive. <font color = 'red'> `File` --> `Save a copy in Drive`</font>. Rename it as <font color = 'green'>`Lastname_Firstname_hw1`</font>.\n",
        "\n",
        "2. Write your solutions in the cells  marked <font color = 'green'>`# your code`</font>.\n",
        "\n",
        "3. Do not delete your outputs. They are essential for the grading. Make sure that cells containing your solutions are executed, and the results are displayed on the notebook.\n",
        "\n",
        "4. When you're done please submit your solutions as an <font color=\"red\">`.ipynb`</font> file. To do so:\n",
        "\n",
        "\n",
        "1.  Click on <font color=\"red\">`File`</font>  at the top left on the Colab screen, then click on <font color = 'red'>`Download .ipynb`</font>.\n",
        "2.   Then submit the downloaded <font color=\"red\">`.ipynb`</font> version of your work on SUCourse.\n",
        "\n",
        "\n",
        "For any question, you may send an email to the TAs and LAs.\n",
        "\n",
        "---\n",
        "\n",
        "**Important Note:**   \n",
        "In this homework, you are not allowed to use any libraries other than [`random`](https://docs.python.org/3/library/random.html). In addition, you may also use the [`pprint`](https://docs.python.org/3/library/pprint.html) library to produce better looking outputs."
      ]
    },
    {
      "cell_type": "markdown",
      "metadata": {
        "id": "wK0AhfSm417l"
      },
      "source": [
        "## Q1: Get to Know Your TAs\n",
        "\n",
        "In the cell below, you have three lists: names, surnames and mails. The information regarding your TAs are stored in these three separate lists. Moreover, the elements in the same index are associated to a particular TA. For instance, the elements at index 0 constitutes contact information for the first TA.\n",
        "\n",
        "- names[0] -> Rana Bengisu\n",
        "- surnames[0] -> Kalkan\n",
        "- mails[0] -> \"ranakalkan@sabanciuniv.edu\"\n",
        "\n",
        "Here, your goal is to print the contact information of each TA.\n",
        "\n",
        "Write a function named `print_TAs_info` that takes the given lists with the signature below, and then prints the contact information of each TA in the format below.\n",
        "\n",
        "*Hint: You may use the `zip` function.*\n",
        "\n",
        "```py\n",
        ">>> print_TAs_info(names,surnames,mails)\n",
        "Rana Bengisu Kalkan: ranakalkan@sabanciuniv.edu\n",
        "Büşra Öz: boz@sabanciuniv.edu\n",
        "Mert Gürkan: mertgurkan@sabanciuniv.edu\n",
        "Hasan Alp Boz: bozhasan@sabanciuniv.edu\n",
        "```"
      ]
    },
    {
      "cell_type": "code",
      "metadata": {
        "id": "e924Yp97oXsP"
      },
      "source": [
        "names = [\"Rana Bengisu\", \"Büşra\", \"Mert\", \"Hasan Alp\"]\n",
        "surnames = [\"Kalkan\", \"Öz\", \"Gürkan\", \"Boz\"]\n",
        "mails = [\"ranakalkan@sabanciuniv.edu\", \"boz@sabanciuniv.edu\", \"mertgurkan@sabanciuniv.edu\", \"bozhasan@sabanciuniv.edu\"]"
      ],
      "execution_count": null,
      "outputs": []
    },
    {
      "cell_type": "code",
      "metadata": {
        "id": "waAKTlsMTXdN",
        "outputId": "c0b7a8f4-9ebd-47ae-e922-68fbb23ce461",
        "colab": {
          "base_uri": "https://localhost:8080/",
          "height": 83
        }
      },
      "source": [
        "for names, surnames, mails in list(zip(names, surnames, mails)):\n",
        "  print(names, surnames, \": \", mails)"
      ],
      "execution_count": null,
      "outputs": [
        {
          "output_type": "stream",
          "text": [
            "Rana Bengisu Kalkan :  ranakalkan@sabanciuniv.edu\n",
            "Büşra Öz :  boz@sabanciuniv.edu\n",
            "Mert Gürkan :  mertgurkan@sabanciuniv.edu\n",
            "Hasan Alp Boz :  bozhasan@sabanciuniv.edu\n"
          ],
          "name": "stdout"
        }
      ]
    },
    {
      "cell_type": "markdown",
      "metadata": {
        "id": "DwskSV1dAeoR"
      },
      "source": [
        "## Q2: Teaching Survey\n",
        "\n",
        "In a survey conducted by the student resources, each student was asked whether they think online or offline education is more effective. The student responses are recorded in a file named `teaching_survey.csv`. Each line contains the response of a particular student and contains her/his major alongside her answer separated by a comma.\n",
        "\n",
        "In total, we have 1020 students; 800 CS, 140 ME and 80 BIO students.\n",
        "\n",
        "![](https://i.ibb.co/p4JJq1h/ss.png)\n",
        "\n",
        "*Do not forget to add the shared file and then mount to your drive. Otherwise, you won't be able to read the file.*\n"
      ]
    },
    {
      "cell_type": "markdown",
      "metadata": {
        "id": "EJdIEenmj6W_"
      },
      "source": [
        "#### Part A\n",
        "\n",
        "Read the provided file and select 60 random student responses. Calculate the percentage of students in the sample that thinks online teaching is more effective.\n",
        "\n",
        "![](https://i.ibb.co/n0x1xFN/sample60.png)\n"
      ]
    },
    {
      "cell_type": "code",
      "metadata": {
        "id": "tbaryKClTz5Z",
        "outputId": "36284464-9e4d-4b8d-ac48-dba67aa3af07",
        "colab": {
          "base_uri": "https://localhost:8080/",
          "height": 33
        }
      },
      "source": [
        "from google.colab import drive\n",
        "drive.mount(\"./drive/\", force_remount=True)"
      ],
      "execution_count": null,
      "outputs": [
        {
          "output_type": "stream",
          "text": [
            "Mounted at ./drive/\n"
          ],
          "name": "stdout"
        }
      ]
    },
    {
      "cell_type": "code",
      "metadata": {
        "id": "NnRDeA3_SPi0",
        "outputId": "9323ae70-51f9-4782-8667-1ca1b65051b6",
        "colab": {
          "base_uri": "https://localhost:8080/",
          "height": 33
        }
      },
      "source": [
        "import random\n",
        "\n",
        "lines = []\n",
        "filename = \"teaching_survey.csv\"\n",
        "path = \"./drive/My Drive/\"\n",
        "sample_size = 59\n",
        "counterA =0 \n",
        "\n",
        "with open(path + filename, \"r\") as f:\n",
        "    lines = f.readlines()  # returns a list of lines from the file\n",
        "    lines = [i.strip().split(',') for i in lines]\n",
        "    \n",
        "    choices = list(range(1020))\n",
        "    random.shuffle(choices)\n",
        "\n",
        "    rand_students = []\n",
        "    for _ in range(sample_size):\n",
        "      \n",
        "      rand_ind = random.choice(choices)\n",
        "      rand_students.append(lines[rand_ind])\n",
        "      choices.pop(0)\n",
        "      \n",
        "      if rand_students[_][1] == \"online\":\n",
        "        counterA = counterA+1\n",
        "\n",
        "percentageA = (counterA*100)/60      \n",
        "print(\"{:.2f}\".format(percentageA), \"% of students in the sample that thinks online teaching is more effective.\")"
      ],
      "execution_count": null,
      "outputs": [
        {
          "output_type": "stream",
          "text": [
            "53.33 % of students in the sample that thinks online teaching is more effective.\n"
          ],
          "name": "stdout"
        }
      ]
    },
    {
      "cell_type": "markdown",
      "metadata": {
        "id": "pIBUWMoXSSwr"
      },
      "source": [
        "#### Part B\n",
        "\n",
        "This time you will apply stratified sampling. Sample 20 student reponses  from each major (60 in total) and  then recalculate the percentage of students in the sample that thinks online teaching is more effective. Report this number. Do you see a diffference? Why is that? Do you think it is enough to draw a random sample once.\n",
        "\n",
        "\n",
        "\n",
        "![](https://i.ibb.co/6Fg0TtW/eqaul-Sample.png)"
      ]
    },
    {
      "cell_type": "code",
      "metadata": {
        "id": "laBFy2HkSXpC",
        "outputId": "de41d7e1-205f-481b-bc88-4915df4f4072",
        "colab": {
          "base_uri": "https://localhost:8080/",
          "height": 34
        }
      },
      "source": [
        "import random\n",
        "\n",
        "linesB = []\n",
        "filename = \"teaching_survey.csv\"\n",
        "path = \"./drive/My Drive/\"\n",
        "sample_size = 59\n",
        "counterB = 0\n",
        "selected_students = [] \n",
        "\n",
        "with open(path + filename, \"r\") as fi:\n",
        "    linesB = fi.readlines()  # returns a list of lines from the file\n",
        "    linesB = [i.strip().split(',') for i in linesB]\n",
        "    linesB.sort()\n",
        "\n",
        "    # 800 CS, 140 ME and 80 BIO students\n",
        "    for _ in range(sample_size):\n",
        "      if _ <= 19: #select random 20 BIO students\n",
        "        choicesBIO = list(range(79))\n",
        "        random.shuffle(choicesBIO)\n",
        "\n",
        "        rand_ind = random.choice(choicesBIO)\n",
        "        selected_students.append(linesB[rand_ind])\n",
        "        choicesBIO.pop(0)\n",
        "      elif 20 <= _ <= 39: #select random 20 CS students\n",
        "        choicesCS = list(range(80,879))\n",
        "        random.shuffle(choicesCS)\n",
        "\n",
        "        rand_ind = random.choice(choicesCS)\n",
        "        selected_students.append(linesB[rand_ind])\n",
        "        choicesCS.pop(0)\n",
        "      elif 40 <= _ <= 59: #select random 20 ME students\n",
        "        choicesME = list(range(880,1019))\n",
        "        random.shuffle(choicesME)\n",
        "\n",
        "        rand_index = random.choice(choicesME)\n",
        "        selected_students.append(linesB[rand_index])\n",
        "        choicesME.pop(0)\n",
        "\n",
        "      if selected_students[_][1] == \"online\":\n",
        "        counterB = counterB+1\n",
        "\n",
        "percentageB = (counterB*100)/60          \n",
        "print(\"{:.2f}\".format(percentageB), \"% of students in the sample that thinks online teaching is more effective.\")"
      ],
      "execution_count": null,
      "outputs": [
        {
          "output_type": "stream",
          "text": [
            "18.33 % of students in the sample that thinks online teaching is more effective.\n"
          ],
          "name": "stdout"
        }
      ]
    },
    {
      "cell_type": "markdown",
      "metadata": {
        "id": "HMa35yitTrzR"
      },
      "source": [
        "<font color=\"blue\">[\n",
        "Yes when I run A and B the numbers are always changing. I think the method we use in the B part gives us a better result compared to A because student numbers in these majors are very different from each other. In A part, it is possible that all of the selected students are from CS major because there are 800 CS students and this case lead a major bias. On the other hand in part B we get a better result because we guarantee that we collected the opinions of students in each major. But this is not enough, for better estimation we should draw multiple random samples and state our result regarding to online/offline education percentages according to that.\n",
        "]</font>"
      ]
    },
    {
      "cell_type": "markdown",
      "metadata": {
        "id": "srIzF7eJYUAW"
      },
      "source": [
        "## Q3: List Reshaping\n",
        "\n",
        "List/array reshaping is one of the most fundamental operations in data manipulation. In the figure below, you see a single dimensional (1D) list named `arr` that contains integers from 1 to 6. We can cast this 1D list into a matrix as well. \n",
        "\n",
        "![](https://cdn.discordapp.com/attachments/715265876810530846/764191117067026472/list_to_matrix2.png)\n",
        "\n",
        "By referencing the figure above, write a function named `list_to_matrix` which will take a single dimensional list and two integers representing the shape of the desired matrix. At the end, it should return the resulting matrix.\n",
        "\n",
        "If the given number of rows and columns are not compatible with the number of elements, then print a warning and return `None`.\n",
        "\n",
        "```py\n",
        ">>> arr = [i for i in range(30)]\n",
        ">>> list_to_matrix(arr, 5, 6)\n",
        "[[0, 1, 2, 3, 4, 5],\n",
        " [6, 7, 8, 9, 10, 11],\n",
        " [12, 13, 14, 15, 16, 17],\n",
        " [18, 19, 20, 21, 22, 23],\n",
        " [24, 25, 26, 27, 28, 29]]\n",
        "\n",
        ">>> list_to_matrix(arr, 5, 4)  # will give a warning\n",
        "                               # because we can't place 30 elements\n",
        "                               # in a 5x4 matrix\n",
        "\"Uncompatible Shapes\"\n",
        "```"
      ]
    },
    {
      "cell_type": "code",
      "metadata": {
        "id": "iZgKbmvbZM61",
        "outputId": "ee99b04c-dc24-4f7c-8aac-1aefb9adade1",
        "colab": {
          "base_uri": "https://localhost:8080/",
          "height": 102
        }
      },
      "source": [
        "def list_to_matrix(array, rows, cols):\n",
        "  matrix = [[0 for i in range(cols)] for j in range(rows)]\n",
        "  if (rows*cols) == len(array):\n",
        "    for index in range(len(array)):\n",
        "      matrix[index // cols][index % cols] = array[index]\n",
        "\n",
        "    for row in matrix:\n",
        "      print(row)\n",
        "    \n",
        "  else:\n",
        "    print(\"Uncompatible Shapes\")\n",
        "\n",
        "arr = [i for i in range(30)]\n",
        "list_to_matrix(arr,5,6)"
      ],
      "execution_count": null,
      "outputs": [
        {
          "output_type": "stream",
          "text": [
            "[0, 1, 2, 3, 4, 5]\n",
            "[6, 7, 8, 9, 10, 11]\n",
            "[12, 13, 14, 15, 16, 17]\n",
            "[18, 19, 20, 21, 22, 23]\n",
            "[24, 25, 26, 27, 28, 29]\n"
          ],
          "name": "stdout"
        }
      ]
    },
    {
      "cell_type": "markdown",
      "metadata": {
        "id": "_0FzjI4Li18J"
      },
      "source": [
        "## Q4: Longest Word in a File\n",
        "\n",
        "In the shared assignment folder, you have a file named `hamlet.txt` which stores the famous play written by William Shakespeare.\n",
        "\n",
        "Write a function named `longest_word` which will take a file name as it's single parameter and then reads and returns the longest word from that file.\n",
        "\n",
        "```py\n",
        ">>> longest_word(\"hamlet.txt\")\n",
        "```\n",
        "\n",
        "*Do not forget to add the shared file and then mount to your drive. Otherwise, you won't be able to read the file.*"
      ]
    },
    {
      "cell_type": "code",
      "metadata": {
        "id": "DEQOU3viZAfj",
        "outputId": "8d5efe5f-88f5-462f-a3ed-99ce434da767",
        "colab": {
          "base_uri": "https://localhost:8080/",
          "height": 36
        }
      },
      "source": [
        "def longest_word(fname):\n",
        "  path = \"./drive/My Drive/\"\n",
        "  with open(path + fname, \"r\") as ftext:\n",
        "    word_in_hand = ' '\n",
        "    length_until_now = len(word_in_hand)\n",
        "    \n",
        "    for line in ftext:\n",
        "      for word in line.split():\n",
        "        each = word\n",
        "        if len(word) > length_until_now:\n",
        "          length_until_now = len(each)\n",
        "          word_in_hand = each\n",
        "    return word_in_hand\n",
        "  \n",
        "longest_word(\"hamlet.txt\")"
      ],
      "execution_count": null,
      "outputs": [
        {
          "output_type": "execute_result",
          "data": {
            "application/vnd.google.colaboratory.intrinsic+json": {
              "type": "string"
            },
            "text/plain": [
              "'tragical-comical-historical-pastoral;'"
            ]
          },
          "metadata": {
            "tags": []
          },
          "execution_count": 162
        }
      ]
    }
  ]
}